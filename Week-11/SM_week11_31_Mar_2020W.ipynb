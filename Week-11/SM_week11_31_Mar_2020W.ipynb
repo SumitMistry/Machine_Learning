{
 "cells": [
  {
   "cell_type": "markdown",
   "metadata": {
    "colab_type": "text",
    "id": "TfHW2YK-4j92"
   },
   "source": [
    "# <font color='blue'>Week 11 - Machine Learning Intro</font>\n",
    "\n",
    "### <font color='red'> Used: Python and its libraries; pySparks </font>\n",
    "Notes:\n",
    "1. 'label' \n",
    "2. 'FeatureVector' \n"
   ]
  },
  {
   "cell_type": "markdown",
   "metadata": {
    "colab_type": "text",
    "id": "bbgZHoTIe54l"
   },
   "source": [
    "**Following references are used for this module**\n",
    "* Dataset: https://archive.ics.uci.edu/ml/datasets/adult\n",
    "* https://docs.databricks.com/applications/machine-learning/mllib/binary-classification-mllib-pipelines.html"
   ]
  },
  {
   "cell_type": "markdown",
   "metadata": {
    "colab_type": "text",
    "id": "M2jBl_SIU8Wi"
   },
   "source": [
    "**Installing spark library and setting the Java envoirement**"
   ]
  },
  {
   "cell_type": "code",
   "execution_count": 7,
   "metadata": {
    "colab": {
     "base_uri": "https://localhost:8080/",
     "height": 314
    },
    "colab_type": "code",
    "executionInfo": {
     "elapsed": 47871,
     "status": "ok",
     "timestamp": 1586305554540,
     "user": {
      "displayName": "Sumit Mistry",
      "photoUrl": "https://lh3.googleusercontent.com/a-/AOh14Gj7UOyquUtRC0VYjYPKdmbsVWV3uE8gz82iVvNbyg=s64",
      "userId": "11733931254869325882"
     },
     "user_tz": 240
    },
    "id": "kj4XFBQeVGz8",
    "outputId": "3340d9e1-a997-4f97-8a3c-864cc8b7b288"
   },
   "outputs": [
    {
     "name": "stdout",
     "output_type": "stream",
     "text": [
      "Collecting pyspark\n",
      "\u001b[?25l  Downloading https://files.pythonhosted.org/packages/9a/5a/271c416c1c2185b6cb0151b29a91fff6fcaed80173c8584ff6d20e46b465/pyspark-2.4.5.tar.gz (217.8MB)\n",
      "\u001b[K     |████████████████████████████████| 217.8MB 62kB/s \n",
      "\u001b[?25hCollecting py4j==0.10.7\n",
      "\u001b[?25l  Downloading https://files.pythonhosted.org/packages/e3/53/c737818eb9a7dc32a7cd4f1396e787bd94200c3997c72c1dbe028587bd76/py4j-0.10.7-py2.py3-none-any.whl (197kB)\n",
      "\u001b[K     |████████████████████████████████| 204kB 46.5MB/s \n",
      "\u001b[?25hBuilding wheels for collected packages: pyspark\n",
      "  Building wheel for pyspark (setup.py) ... \u001b[?25l\u001b[?25hdone\n",
      "  Created wheel for pyspark: filename=pyspark-2.4.5-py2.py3-none-any.whl size=218257927 sha256=c3b329e710d3b4d84bed826f85c13c9e7658dc6faccbb85bc97320e7ae65c3e7\n",
      "  Stored in directory: /root/.cache/pip/wheels/bf/db/04/61d66a5939364e756eb1c1be4ec5bdce6e04047fc7929a3c3c\n",
      "Successfully built pyspark\n",
      "Installing collected packages: py4j, pyspark\n",
      "Successfully installed py4j-0.10.7 pyspark-2.4.5\n",
      "openjdk-8-jdk-headless is already the newest version (8u242-b08-0ubuntu3~18.04).\n",
      "0 upgraded, 0 newly installed, 0 to remove and 25 not upgraded.\n"
     ]
    }
   ],
   "source": [
    "!pip install pyspark\n",
    "!pip install -U -q PyDrive\n",
    "!apt install openjdk-8-jdk-headless -qq\n",
    "import os\n",
    "os.environ[\"JAVA_HOME\"] = \"/usr/lib/jvm/java-8-openjdk-amd64\""
   ]
  },
  {
   "cell_type": "markdown",
   "metadata": {
    "colab_type": "text",
    "id": "VpfGlnwLWoCx"
   },
   "source": [
    "**Import the necessary libraries and setting the spark session**"
   ]
  },
  {
   "cell_type": "code",
   "execution_count": 0,
   "metadata": {
    "colab": {},
    "colab_type": "code",
    "id": "Qc8nW1wXWr0D"
   },
   "outputs": [],
   "source": [
    "from pyspark.ml import Pipeline\n",
    "\n",
    "from pyspark.ml.classification import LogisticRegression\n",
    "from pyspark.ml.feature import IndexToString, StringIndexer, VectorIndexer, VectorAssembler\n",
    "from pyspark.ml.evaluation import MulticlassClassificationEvaluator\n",
    "from pyspark.sql import SparkSession\n",
    "\n",
    "spark = SparkSession.builder.appName(\"LogisticRegressionExample\").getOrCreate()"
   ]
  },
  {
   "cell_type": "markdown",
   "metadata": {
    "colab_type": "text",
    "id": "vM1iujooVcLG"
   },
   "source": [
    "**Upload the BostonHousing.csv file**"
   ]
  },
  {
   "cell_type": "code",
   "execution_count": 4,
   "metadata": {
    "colab": {
     "base_uri": "https://localhost:8080/",
     "height": 75,
     "resources": {
      "http://localhost:8080/nbextensions/google.colab/files.js": {
       "data": "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",
       "headers": [
        [
         "content-type",
         "application/javascript"
        ]
       ],
       "ok": true,
       "status": 200,
       "status_text": "OK"
      }
     }
    },
    "colab_type": "code",
    "executionInfo": {
     "elapsed": 44043,
     "status": "ok",
     "timestamp": 1586305497163,
     "user": {
      "displayName": "Sumit Mistry",
      "photoUrl": "https://lh3.googleusercontent.com/a-/AOh14Gj7UOyquUtRC0VYjYPKdmbsVWV3uE8gz82iVvNbyg=s64",
      "userId": "11733931254869325882"
     },
     "user_tz": 240
    },
    "id": "M5WPh30zVj7u",
    "outputId": "263d0472-5e06-4580-8384-325f3a63eec2"
   },
   "outputs": [
    {
     "data": {
      "text/html": [
       "\n",
       "     <input type=\"file\" id=\"files-e376cca9-59f9-4fbd-8859-072cf80caad9\" name=\"files[]\" multiple disabled />\n",
       "     <output id=\"result-e376cca9-59f9-4fbd-8859-072cf80caad9\">\n",
       "      Upload widget is only available when the cell has been executed in the\n",
       "      current browser session. Please rerun this cell to enable.\n",
       "      </output>\n",
       "      <script src=\"/nbextensions/google.colab/files.js\"></script> "
      ],
      "text/plain": [
       "<IPython.core.display.HTML object>"
      ]
     },
     "metadata": {
      "tags": []
     },
     "output_type": "display_data"
    },
    {
     "name": "stdout",
     "output_type": "stream",
     "text": [
      "Saving adult.data to adult.data\n"
     ]
    }
   ],
   "source": [
    "from google.colab import files\n",
    "uploaded = files.upload()"
   ]
  },
  {
   "cell_type": "markdown",
   "metadata": {
    "colab_type": "text",
    "id": "5XqGu2_2hvO2"
   },
   "source": [
    "# Load training data"
   ]
  },
  {
   "cell_type": "markdown",
   "metadata": {
    "colab_type": "text",
    "id": "4aD2R3BIV5al"
   },
   "source": [
    "**Read the adult.data file into a dataset and name the columns**\n"
   ]
  },
  {
   "cell_type": "code",
   "execution_count": 0,
   "metadata": {
    "colab": {},
    "colab_type": "code",
    "id": "Xqm3F3TUa00v"
   },
   "outputs": [],
   "source": [
    "dataset = spark.read.format(\"csv\").option(\"header\",\"false\").load(\"adult.data\").toDF('age',  \n",
    "            'workclass',  'fnlwgt',  'education',  'education_num',  'marital_status',  'occupation',  'relationship',  \n",
    "            'race',  'sex',  'capital_gain',  'capital_loss',  'hours_per_week',  'native_country',  'income')"
   ]
  },
  {
   "cell_type": "markdown",
   "metadata": {
    "colab_type": "text",
    "id": "u3TkLqChYT_A"
   },
   "source": [
    "**Print the schema of the dataset using describe and printschema functions**"
   ]
  },
  {
   "cell_type": "code",
   "execution_count": 88,
   "metadata": {
    "colab": {
     "base_uri": "https://localhost:8080/",
     "height": 331
    },
    "colab_type": "code",
    "executionInfo": {
     "elapsed": 2470,
     "status": "ok",
     "timestamp": 1586322911762,
     "user": {
      "displayName": "Sumit Mistry",
      "photoUrl": "https://lh3.googleusercontent.com/a-/AOh14Gj7UOyquUtRC0VYjYPKdmbsVWV3uE8gz82iVvNbyg=s64",
      "userId": "11733931254869325882"
     },
     "user_tz": 240
    },
    "id": "sQx_-uQCbl-D",
    "outputId": "f66becdf-d968-4977-d4e5-2c2ccd347f2d"
   },
   "outputs": [
    {
     "name": "stdout",
     "output_type": "stream",
     "text": [
      "root\n",
      " |-- age: string (nullable = true)\n",
      " |-- workclass: string (nullable = true)\n",
      " |-- fnlwgt: string (nullable = true)\n",
      " |-- education: string (nullable = true)\n",
      " |-- education_num: string (nullable = true)\n",
      " |-- marital_status: string (nullable = true)\n",
      " |-- occupation: string (nullable = true)\n",
      " |-- relationship: string (nullable = true)\n",
      " |-- race: string (nullable = true)\n",
      " |-- sex: string (nullable = true)\n",
      " |-- capital_gain: string (nullable = true)\n",
      " |-- capital_loss: string (nullable = true)\n",
      " |-- hours_per_week: string (nullable = true)\n",
      " |-- native_country: string (nullable = true)\n",
      " |-- income: string (nullable = true)\n",
      "\n"
     ]
    }
   ],
   "source": [
    "dataset.printSchema()"
   ]
  },
  {
   "cell_type": "markdown",
   "metadata": {
    "colab_type": "text",
    "id": "7VOanIeBeYek"
   },
   "source": [
    "**Print first 5 records of the dataset**\n"
   ]
  },
  {
   "cell_type": "code",
   "execution_count": 89,
   "metadata": {
    "colab": {
     "base_uri": "https://localhost:8080/",
     "height": 129
    },
    "colab_type": "code",
    "executionInfo": {
     "elapsed": 2691,
     "status": "ok",
     "timestamp": 1586322912338,
     "user": {
      "displayName": "Sumit Mistry",
      "photoUrl": "https://lh3.googleusercontent.com/a-/AOh14Gj7UOyquUtRC0VYjYPKdmbsVWV3uE8gz82iVvNbyg=s64",
      "userId": "11733931254869325882"
     },
     "user_tz": 240
    },
    "id": "byC8UJeLb3eD",
    "outputId": "64dabe53-71f6-4557-9f7a-442ba0263090"
   },
   "outputs": [
    {
     "data": {
      "text/plain": [
       "[Row(age='39', workclass=' State-gov', fnlwgt=' 77516', education=' Bachelors', education_num=' 13', marital_status=' Never-married', occupation=' Adm-clerical', relationship=' Not-in-family', race=' White', sex=' Male', capital_gain=' 2174', capital_loss=' 0', hours_per_week=' 40', native_country=' United-States', income=' <=50K'),\n",
       " Row(age='50', workclass=' Self-emp-not-inc', fnlwgt=' 83311', education=' Bachelors', education_num=' 13', marital_status=' Married-civ-spouse', occupation=' Exec-managerial', relationship=' Husband', race=' White', sex=' Male', capital_gain=' 0', capital_loss=' 0', hours_per_week=' 13', native_country=' United-States', income=' <=50K'),\n",
       " Row(age='38', workclass=' Private', fnlwgt=' 215646', education=' HS-grad', education_num=' 9', marital_status=' Divorced', occupation=' Handlers-cleaners', relationship=' Not-in-family', race=' White', sex=' Male', capital_gain=' 0', capital_loss=' 0', hours_per_week=' 40', native_country=' United-States', income=' <=50K'),\n",
       " Row(age='53', workclass=' Private', fnlwgt=' 234721', education=' 11th', education_num=' 7', marital_status=' Married-civ-spouse', occupation=' Handlers-cleaners', relationship=' Husband', race=' Black', sex=' Male', capital_gain=' 0', capital_loss=' 0', hours_per_week=' 40', native_country=' United-States', income=' <=50K'),\n",
       " Row(age='28', workclass=' Private', fnlwgt=' 338409', education=' Bachelors', education_num=' 13', marital_status=' Married-civ-spouse', occupation=' Prof-specialty', relationship=' Wife', race=' Black', sex=' Female', capital_gain=' 0', capital_loss=' 0', hours_per_week=' 40', native_country=' Cuba', income=' <=50K')]"
      ]
     },
     "execution_count": 89,
     "metadata": {
      "tags": []
     },
     "output_type": "execute_result"
    }
   ],
   "source": [
    "dataset.head(5)"
   ]
  },
  {
   "cell_type": "code",
   "execution_count": 90,
   "metadata": {
    "colab": {
     "base_uri": "https://localhost:8080/",
     "height": 55
    },
    "colab_type": "code",
    "executionInfo": {
     "elapsed": 4703,
     "status": "ok",
     "timestamp": 1586322914486,
     "user": {
      "displayName": "Sumit Mistry",
      "photoUrl": "https://lh3.googleusercontent.com/a-/AOh14Gj7UOyquUtRC0VYjYPKdmbsVWV3uE8gz82iVvNbyg=s64",
      "userId": "11733931254869325882"
     },
     "user_tz": 240
    },
    "id": "KrvHd8gCKeNH",
    "outputId": "dd3da3e0-d1ef-4064-9dad-7c7101ebb5b8"
   },
   "outputs": [
    {
     "data": {
      "text/plain": [
       "DataFrame[summary: string, age: string, workclass: string, fnlwgt: string, education: string, education_num: string, marital_status: string, occupation: string, relationship: string, race: string, sex: string, capital_gain: string, capital_loss: string, hours_per_week: string, native_country: string, income: string]"
      ]
     },
     "execution_count": 90,
     "metadata": {
      "tags": []
     },
     "output_type": "execute_result"
    }
   ],
   "source": [
    "dataset.describe()"
   ]
  },
  {
   "cell_type": "markdown",
   "metadata": {
    "colab_type": "text",
    "id": "scyYaxOBgu42"
   },
   "source": [
    "## Changing Data Types (Dataset ----change_data_type----> Dataset)"
   ]
  },
  {
   "cell_type": "code",
   "execution_count": 91,
   "metadata": {
    "colab": {
     "base_uri": "https://localhost:8080/",
     "height": 331
    },
    "colab_type": "code",
    "executionInfo": {
     "elapsed": 4315,
     "status": "ok",
     "timestamp": 1586322914488,
     "user": {
      "displayName": "Sumit Mistry",
      "photoUrl": "https://lh3.googleusercontent.com/a-/AOh14Gj7UOyquUtRC0VYjYPKdmbsVWV3uE8gz82iVvNbyg=s64",
      "userId": "11733931254869325882"
     },
     "user_tz": 240
    },
    "id": "NmfUxz9dh7pW",
    "outputId": "1c2a23ea-2cfd-4c7c-c573-99fde33ef54c"
   },
   "outputs": [
    {
     "name": "stdout",
     "output_type": "stream",
     "text": [
      "root\n",
      " |-- age: float (nullable = true)\n",
      " |-- workclass: string (nullable = true)\n",
      " |-- fnlwgt: float (nullable = true)\n",
      " |-- education: string (nullable = true)\n",
      " |-- education_num: float (nullable = true)\n",
      " |-- marital_status: string (nullable = true)\n",
      " |-- occupation: string (nullable = true)\n",
      " |-- relationship: string (nullable = true)\n",
      " |-- race: string (nullable = true)\n",
      " |-- sex: string (nullable = true)\n",
      " |-- capital_gain: float (nullable = true)\n",
      " |-- capital_loss: float (nullable = true)\n",
      " |-- hours_per_week: float (nullable = true)\n",
      " |-- native_country: string (nullable = true)\n",
      " |-- income: string (nullable = true)\n",
      "\n"
     ]
    }
   ],
   "source": [
    "dataset = dataset.withColumn(\"age\", dataset[\"age\"].cast(\"Float\"))\n",
    "dataset = dataset.withColumn(\"fnlwgt\", dataset[\"fnlwgt\"].cast(\"Float\"))\n",
    "dataset = dataset.withColumn(\"education_num\", dataset[\"education_num\"].cast(\"Float\"))\n",
    "dataset = dataset.withColumn(\"capital_gain\", dataset[\"capital_gain\"].cast(\"Float\"))\n",
    "dataset = dataset.withColumn(\"capital_loss\", dataset[\"capital_loss\"].cast(\"Float\"))\n",
    "dataset = dataset.withColumn(\"hours_per_week\", dataset[\"hours_per_week\"].cast(\"Float\"))\n",
    "dataset.printSchema()\n"
   ]
  },
  {
   "cell_type": "code",
   "execution_count": 92,
   "metadata": {
    "colab": {
     "base_uri": "https://localhost:8080/",
     "height": 129
    },
    "colab_type": "code",
    "executionInfo": {
     "elapsed": 4155,
     "status": "ok",
     "timestamp": 1586322914488,
     "user": {
      "displayName": "Sumit Mistry",
      "photoUrl": "https://lh3.googleusercontent.com/a-/AOh14Gj7UOyquUtRC0VYjYPKdmbsVWV3uE8gz82iVvNbyg=s64",
      "userId": "11733931254869325882"
     },
     "user_tz": 240
    },
    "id": "9dab9SkAk00D",
    "outputId": "d09e807a-6268-456a-c239-ef77fa7119f2"
   },
   "outputs": [
    {
     "data": {
      "text/plain": [
       "[Row(age=39.0, workclass=' State-gov', fnlwgt=77516.0, education=' Bachelors', education_num=13.0, marital_status=' Never-married', occupation=' Adm-clerical', relationship=' Not-in-family', race=' White', sex=' Male', capital_gain=2174.0, capital_loss=0.0, hours_per_week=40.0, native_country=' United-States', income=' <=50K'),\n",
       " Row(age=50.0, workclass=' Self-emp-not-inc', fnlwgt=83311.0, education=' Bachelors', education_num=13.0, marital_status=' Married-civ-spouse', occupation=' Exec-managerial', relationship=' Husband', race=' White', sex=' Male', capital_gain=0.0, capital_loss=0.0, hours_per_week=13.0, native_country=' United-States', income=' <=50K'),\n",
       " Row(age=38.0, workclass=' Private', fnlwgt=215646.0, education=' HS-grad', education_num=9.0, marital_status=' Divorced', occupation=' Handlers-cleaners', relationship=' Not-in-family', race=' White', sex=' Male', capital_gain=0.0, capital_loss=0.0, hours_per_week=40.0, native_country=' United-States', income=' <=50K'),\n",
       " Row(age=53.0, workclass=' Private', fnlwgt=234721.0, education=' 11th', education_num=7.0, marital_status=' Married-civ-spouse', occupation=' Handlers-cleaners', relationship=' Husband', race=' Black', sex=' Male', capital_gain=0.0, capital_loss=0.0, hours_per_week=40.0, native_country=' United-States', income=' <=50K'),\n",
       " Row(age=28.0, workclass=' Private', fnlwgt=338409.0, education=' Bachelors', education_num=13.0, marital_status=' Married-civ-spouse', occupation=' Prof-specialty', relationship=' Wife', race=' Black', sex=' Female', capital_gain=0.0, capital_loss=0.0, hours_per_week=40.0, native_country=' Cuba', income=' <=50K')]"
      ]
     },
     "execution_count": 92,
     "metadata": {
      "tags": []
     },
     "output_type": "execute_result"
    }
   ],
   "source": [
    "dataset.head(5)"
   ]
  },
  {
   "cell_type": "markdown",
   "metadata": {
    "colab_type": "text",
    "id": "kBE-lgz_lAGn"
   },
   "source": [
    "\n",
    "\n",
    "\n",
    "```\n",
    "# BEFORE...\n",
    "[Row(age='39', workclass=' State-gov', fnlwgt=' 77516', education=' Bachelors', education_num=' 13', marital_status=' Never-married', occupation=' Adm-clerical', relationship=' Not-in-family', race=' White', sex=' Male', capital_gain=' 2174', capital_loss=' 0', hours_per_week=' 40', native_country=' United-States', income=' <=50K'),\n",
    " Row(age='50', workclass=' Self-emp-not-inc', fnlwgt=' 83311', education=' Bachelors', education_num=' 13', marital_status=' Married-civ-spouse', occupation=' Exec-managerial', relationship=' Husband', race=' White', sex=' Male', capital_gain=' 0', capital_loss=' 0', hours_per_week=' 13', native_country=' United-States', income=' <=50K'),\n",
    " Row(age='38', workclass=' Private', fnlwgt=' 215646', education=' HS-grad', education_num=' 9', marital_status=' Divorced', occupation=' Handlers-cleaners', relationship=' Not-in-family', race=' White', sex=' Male', capital_gain=' 0', capital_loss=' 0', hours_per_week=' 40', native_country=' United-States', income=' <=50K'),\n",
    " Row(age='53', workclass=' Private', fnlwgt=' 234721', education=' 11th', education_num=' 7', marital_status=' Married-civ-spouse', occupation=' Handlers-cleaners', relationship=' Husband', race=' Black', sex=' Male', capital_gain=' 0', capital_loss=' 0', hours_per_week=' 40', native_country=' United-States', income=' <=50K'),\n",
    " Row(age='28', workclass=' Private', fnlwgt=' 338409', education=' Bachelors', education_num=' 13', marital_status=' Married-civ-spouse', occupation=' Prof-specialty', relationship=' Wife', race=' Black', sex=' Female', capital_gain=' 0', capital_loss=' 0', hours_per_week=' 40', native_country=' Cuba', income=' <=50K')]\n",
    "\n",
    "# AFTER...\n",
    "[Row(age=39.0, workclass=' State-gov', fnlwgt=77516.0, education=' Bachelors', education_num=13.0, marital_status=' Never-married', occupation=' Adm-clerical', relationship=' Not-in-family', race=' White', sex=' Male', capital_gain=2174.0, capital_loss=0.0, hours_per_week=40.0, native_country=' United-States', income=' <=50K'),\n",
    " Row(age=50.0, workclass=' Self-emp-not-inc', fnlwgt=83311.0, education=' Bachelors', education_num=13.0, marital_status=' Married-civ-spouse', occupation=' Exec-managerial', relationship=' Husband', race=' White', sex=' Male', capital_gain=0.0, capital_loss=0.0, hours_per_week=13.0, native_country=' United-States', income=' <=50K'),\n",
    " Row(age=38.0, workclass=' Private', fnlwgt=215646.0, education=' HS-grad', education_num=9.0, marital_status=' Divorced', occupation=' Handlers-cleaners', relationship=' Not-in-family', race=' White', sex=' Male', capital_gain=0.0, capital_loss=0.0, hours_per_week=40.0, native_country=' United-States', income=' <=50K'),\n",
    " Row(age=53.0, workclass=' Private', fnlwgt=234721.0, education=' 11th', education_num=7.0, marital_status=' Married-civ-spouse', occupation=' Handlers-cleaners', relationship=' Husband', race=' Black', sex=' Male', capital_gain=0.0, capital_loss=0.0, hours_per_week=40.0, native_country=' United-States', income=' <=50K'),\n",
    " Row(age=28.0, workclass=' Private', fnlwgt=338409.0, education=' Bachelors', education_num=13.0, marital_status=' Married-civ-spouse', occupation=' Prof-specialty', relationship=' Wife', race=' Black', sex=' Female', capital_gain=0.0, capital_loss=0.0, hours_per_week=40.0, native_country=' Cuba', income=' <=50K')]\n",
    "\n",
    "```\n",
    " "
   ]
  },
  {
   "cell_type": "code",
   "execution_count": 0,
   "metadata": {
    "colab": {},
    "colab_type": "code",
    "id": "PnzDXaQQk04R"
   },
   "outputs": [],
   "source": [
    "# integer columns are==\n",
    "\n",
    "# dataset[\"age\"].cast(\"Integer\")\n",
    "# dataset[\"fnlwgt\"].cast(\"Integer\")\n",
    "# dataset[\"education_num\"].cast(\"Integer\")\n",
    "# dataset[\"capital_gain\"].cast(\"Integer\")\n",
    "# dataset[\"capital_loss\"].cast(\"Integer\")\n",
    "# dataset[\"hours_per_week\"].cast(\"Integer\")\n",
    "\n",
    "#                 +\n",
    "\n",
    "# by deafult \"income\" one\n",
    "\n",
    "\n",
    "dataset_isolated=dataset[['age','fnlwgt','education_num', 'capital_gain', 'capital_loss', 'hours_per_week', 'income']]"
   ]
  },
  {
   "cell_type": "code",
   "execution_count": 94,
   "metadata": {
    "colab": {
     "base_uri": "https://localhost:8080/",
     "height": 129
    },
    "colab_type": "code",
    "executionInfo": {
     "elapsed": 3650,
     "status": "ok",
     "timestamp": 1586322914491,
     "user": {
      "displayName": "Sumit Mistry",
      "photoUrl": "https://lh3.googleusercontent.com/a-/AOh14Gj7UOyquUtRC0VYjYPKdmbsVWV3uE8gz82iVvNbyg=s64",
      "userId": "11733931254869325882"
     },
     "user_tz": 240
    },
    "id": "6duWkuOAk08R",
    "outputId": "34f1d8b4-3bd7-4215-d3a6-bc05b6895614"
   },
   "outputs": [
    {
     "data": {
      "text/plain": [
       "[Row(age=39.0, fnlwgt=77516.0, education_num=13.0, capital_gain=2174.0, capital_loss=0.0, hours_per_week=40.0, income=' <=50K'),\n",
       " Row(age=50.0, fnlwgt=83311.0, education_num=13.0, capital_gain=0.0, capital_loss=0.0, hours_per_week=13.0, income=' <=50K'),\n",
       " Row(age=38.0, fnlwgt=215646.0, education_num=9.0, capital_gain=0.0, capital_loss=0.0, hours_per_week=40.0, income=' <=50K'),\n",
       " Row(age=53.0, fnlwgt=234721.0, education_num=7.0, capital_gain=0.0, capital_loss=0.0, hours_per_week=40.0, income=' <=50K'),\n",
       " Row(age=28.0, fnlwgt=338409.0, education_num=13.0, capital_gain=0.0, capital_loss=0.0, hours_per_week=40.0, income=' <=50K')]"
      ]
     },
     "execution_count": 94,
     "metadata": {
      "tags": []
     },
     "output_type": "execute_result"
    }
   ],
   "source": [
    "dataset_isolated.head(5)"
   ]
  },
  {
   "cell_type": "markdown",
   "metadata": {
    "colab_type": "text",
    "id": "PLEgynwNx4RW"
   },
   "source": [
    "### General Guidleines / Procedure:\n",
    "\n",
    "1. Instantiate Logistic Regression object\n",
    "\n",
    "       my_logi_reg = LogisticRegression(maxIter=10, regParam=0.3, elasticNetParam=0.8)\n",
    "\n",
    "2. Fit the model\n",
    "\n",
    "        my_logi_reg_model = my_logi_reg.fit(dataset_isolated)\n",
    "\n",
    "    \"Fit the Model\"--->\n",
    "    * This will throw an error !!! because there is no 'features' named column in the dataset, so dataset.head(5)\n",
    "    * IllegalArgumentException: 'Field \"features\" does not exist.\\nAvailable fields: age, workclass, fnlwgt, education, education_num, marital_status, occupation, relationship, race, sex, capital_gain, capital_loss, hours_per_week, native_country, income'\n",
    "    * We are missing |\"featuresVector\"|\"label\"| So lets do it. First to create that...\n",
    "\n",
    "3. Print the coefficients and intercept for logistic regression\n",
    "\n",
    "        print(\"Coefficients: \" + str(my_logi_reg_model.coefficients))\n",
    "        print(\"Intercept: \" + str(my_logi_reg_model.intercept))\n",
    "\n",
    "4. Explaining label and Features\n",
    "   - **label** : 0 or 1\n",
    "   - **feature** : has a vector of all the features that belong to that row\n",
    "\n",
    "5. Instantiate an object of the Logistic Regression .....\n",
    "  Create initial LogisticRegression model\n",
    "\n",
    "        my_logi_reg1 = LogisticRegression(labelCol=\"label\", featuresCol=\"features\", maxIter=10)\n",
    "\n",
    "6. Splitting the data in training and testing to evaluate the model\n",
    "\n",
    "        train_data,test_data = dataset.randomSplit([0.70,0.30])\n",
    "        train_data.show(5)\n",
    "        test_data.show(5)\n",
    "\n",
    "7. Fitting our model to the training data \n",
    "        \n",
    "        model = my_logi_reg1.fit(train_data)\n",
    "        predictions = model.transform(test_data)\n",
    "\n",
    "    Predictions:\n",
    "        from pyspark.ml.evaluation import BinaryClassificationEvaluator\n",
    "        Evaluate model\n",
    "        evaluator = BinaryClassificationEvaluator(rawPredictionCol=\"rawPrediction\")\n",
    "        evaluator.evaluate(predictions)\n",
    "        \n",
    "        result = model.evaluate(test_data)\n",
    "        result.accuracy\n",
    "\n",
    "    Showing the predictions against the features of the test data:\n",
    "\n",
    "        predictions = model.transform(test_data.select('features'))\n",
    "        predictions.show(5)\n"
   ]
  },
  {
   "cell_type": "markdown",
   "metadata": {
    "colab_type": "text",
    "id": "DHAMwxoJGhdV"
   },
   "source": [
    "#### **So Its a clear that we need 2 missing colms to proceed further:**\n",
    "\n",
    "1. 'label' <-----casting_str_indxr------income (str)\n",
    "\n",
    "2. 'FeatureVector' <-----combines------ ['age','fnlwgt','education_num', 'capital_gain', 'capital_loss', 'hours_per_week', ]"
   ]
  },
  {
   "cell_type": "markdown",
   "metadata": {
    "colab_type": "text",
    "id": "WeKuUi2-cNx8"
   },
   "source": [
    "**Make the predictions by considering the numeric column only**\n",
    "\n",
    "Make Vector 1st..."
   ]
  },
  {
   "cell_type": "code",
   "execution_count": 0,
   "metadata": {
    "colab": {},
    "colab_type": "code",
    "id": "3Aejcbd9xg0g"
   },
   "outputs": [],
   "source": [
    "from pyspark.ml.feature import VectorAssembler\n",
    "\n",
    "\"\"\"\n",
    "    \"VectorAssembler\" has 2 usage cases:\n",
    "      - Automatically identify categorical features.\n",
    "      - Index all features, if all features are categorical\n",
    "\"\"\"\n",
    "\n",
    "\n",
    "from pyspark.ml.feature import VectorAssembler\n",
    "my_vector_assembler = VectorAssembler(inputCols=['age','fnlwgt','education_num', 'capital_gain', 'capital_loss', 'hours_per_week'],\n",
    "                                      outputCol='FeaturesVector',\n",
    "                                      handleInvalid='error')\n"
   ]
  },
  {
   "cell_type": "code",
   "execution_count": 97,
   "metadata": {
    "colab": {
     "base_uri": "https://localhost:8080/",
     "height": 55
    },
    "colab_type": "code",
    "executionInfo": {
     "elapsed": 575,
     "status": "ok",
     "timestamp": 1586322927113,
     "user": {
      "displayName": "Sumit Mistry",
      "photoUrl": "https://lh3.googleusercontent.com/a-/AOh14Gj7UOyquUtRC0VYjYPKdmbsVWV3uE8gz82iVvNbyg=s64",
      "userId": "11733931254869325882"
     },
     "user_tz": 240
    },
    "id": "hICBNhVhkg0v",
    "outputId": "3ca927d4-70bb-47aa-a15a-8d37dfc04472"
   },
   "outputs": [
    {
     "data": {
      "text/plain": [
       "\"\\n--->\\n\\nERROR:\\n#IllegalArgumentException: 'Data type string of column income is not supported.'\\n\""
      ]
     },
     "execution_count": 97,
     "metadata": {
      "tags": []
     },
     "output_type": "execute_result"
    }
   ],
   "source": [
    "\n",
    "my_vector_assembler.transform(dataset_isolated)\n",
    "\"\"\"\n",
    "--->\n",
    "\n",
    "ERROR:\n",
    "#IllegalArgumentException: 'Data type string of column income is not supported.'\n",
    "\"\"\""
   ]
  },
  {
   "cell_type": "code",
   "execution_count": 98,
   "metadata": {
    "colab": {
     "base_uri": "https://localhost:8080/",
     "height": 92
    },
    "colab_type": "code",
    "executionInfo": {
     "elapsed": 949,
     "status": "ok",
     "timestamp": 1586322928828,
     "user": {
      "displayName": "Sumit Mistry",
      "photoUrl": "https://lh3.googleusercontent.com/a-/AOh14Gj7UOyquUtRC0VYjYPKdmbsVWV3uE8gz82iVvNbyg=s64",
      "userId": "11733931254869325882"
     },
     "user_tz": 240
    },
    "id": "blCP1aCQENgR",
    "outputId": "1914e1dc-7f96-4d47-8a91-5218c4026716"
   },
   "outputs": [
    {
     "data": {
      "text/plain": [
       "[Row(age=39.0, fnlwgt=77516.0, education_num=13.0, capital_gain=2174.0, capital_loss=0.0, hours_per_week=40.0, income=' <=50K', label=0.0),\n",
       " Row(age=50.0, fnlwgt=83311.0, education_num=13.0, capital_gain=0.0, capital_loss=0.0, hours_per_week=13.0, income=' <=50K', label=0.0),\n",
       " Row(age=38.0, fnlwgt=215646.0, education_num=9.0, capital_gain=0.0, capital_loss=0.0, hours_per_week=40.0, income=' <=50K', label=0.0)]"
      ]
     },
     "execution_count": 98,
     "metadata": {
      "tags": []
     },
     "output_type": "execute_result"
    }
   ],
   "source": [
    "\"\"\" We need to cast data type of column: \"income\" to overcome above error:\n",
    "By making 'income' column -----> 'label' column\n",
    "\"\"\"\n",
    "\n",
    "from pyspark.ml.feature import StringIndexer\n",
    "my_stringIndexr = StringIndexer(inputCol='income', \n",
    "                                outputCol='label' , \n",
    "                                handleInvalid='error')\n",
    "\n",
    "dataset_isolated = my_stringIndexr.fit(dataset_isolated).transform(dataset_isolated)\n",
    "\n",
    "dataset_isolated.head(3)"
   ]
  },
  {
   "cell_type": "code",
   "execution_count": 99,
   "metadata": {
    "colab": {
     "base_uri": "https://localhost:8080/",
     "height": 202
    },
    "colab_type": "code",
    "executionInfo": {
     "elapsed": 556,
     "status": "ok",
     "timestamp": 1586322934594,
     "user": {
      "displayName": "Sumit Mistry",
      "photoUrl": "https://lh3.googleusercontent.com/a-/AOh14Gj7UOyquUtRC0VYjYPKdmbsVWV3uE8gz82iVvNbyg=s64",
      "userId": "11733931254869325882"
     },
     "user_tz": 240
    },
    "id": "5lKbzbfsLQ2O",
    "outputId": "965ab165-f6b7-4f19-e0bb-9cb7e3e42bf5"
   },
   "outputs": [
    {
     "name": "stdout",
     "output_type": "stream",
     "text": [
      "root\n",
      " |-- age: float (nullable = true)\n",
      " |-- fnlwgt: float (nullable = true)\n",
      " |-- education_num: float (nullable = true)\n",
      " |-- capital_gain: float (nullable = true)\n",
      " |-- capital_loss: float (nullable = true)\n",
      " |-- hours_per_week: float (nullable = true)\n",
      " |-- income: string (nullable = true)\n",
      " |-- label: double (nullable = false)\n",
      "\n"
     ]
    }
   ],
   "source": [
    "dataset_isolated.printSchema()"
   ]
  },
  {
   "cell_type": "code",
   "execution_count": 0,
   "metadata": {
    "colab": {},
    "colab_type": "code",
    "id": "mNNj4MSWLZIF"
   },
   "outputs": [],
   "source": [
    "from pyspark.ml.feature import VectorAssembler\n",
    "my_vector_assembler = VectorAssembler(inputCols=['age','fnlwgt','education_num', 'capital_gain', 'capital_loss', 'hours_per_week'],\n",
    "                                      outputCol='featuresVector',\n",
    "                                      handleInvalid='error')\n",
    "\n",
    "temp_data = my_vector_assembler.transform(dataset_isolated)"
   ]
  },
  {
   "cell_type": "code",
   "execution_count": 106,
   "metadata": {
    "colab": {
     "base_uri": "https://localhost:8080/",
     "height": 222
    },
    "colab_type": "code",
    "executionInfo": {
     "elapsed": 932,
     "status": "ok",
     "timestamp": 1586323168289,
     "user": {
      "displayName": "Sumit Mistry",
      "photoUrl": "https://lh3.googleusercontent.com/a-/AOh14Gj7UOyquUtRC0VYjYPKdmbsVWV3uE8gz82iVvNbyg=s64",
      "userId": "11733931254869325882"
     },
     "user_tz": 240
    },
    "id": "U61tm5GvOXG7",
    "outputId": "5a5d86ca-0973-4b43-cf6e-973d844ba139"
   },
   "outputs": [
    {
     "name": "stdout",
     "output_type": "stream",
     "text": [
      "+----+--------+-------------+------------+------------+--------------+------+-----+--------------------+\n",
      "| age|  fnlwgt|education_num|capital_gain|capital_loss|hours_per_week|income|label|      featuresVector|\n",
      "+----+--------+-------------+------------+------------+--------------+------+-----+--------------------+\n",
      "|39.0| 77516.0|         13.0|      2174.0|         0.0|          40.0| <=50K|  0.0|[39.0,77516.0,13....|\n",
      "|50.0| 83311.0|         13.0|         0.0|         0.0|          13.0| <=50K|  0.0|[50.0,83311.0,13....|\n",
      "|38.0|215646.0|          9.0|         0.0|         0.0|          40.0| <=50K|  0.0|[38.0,215646.0,9....|\n",
      "|53.0|234721.0|          7.0|         0.0|         0.0|          40.0| <=50K|  0.0|[53.0,234721.0,7....|\n",
      "+----+--------+-------------+------------+------------+--------------+------+-----+--------------------+\n",
      "only showing top 4 rows\n",
      "\n"
     ]
    }
   ],
   "source": [
    "temp_data.head(4)\n",
    "temp_data.show(4)"
   ]
  },
  {
   "cell_type": "code",
   "execution_count": 107,
   "metadata": {
    "colab": {
     "base_uri": "https://localhost:8080/",
     "height": 202
    },
    "colab_type": "code",
    "executionInfo": {
     "elapsed": 955,
     "status": "ok",
     "timestamp": 1586323176875,
     "user": {
      "displayName": "Sumit Mistry",
      "photoUrl": "https://lh3.googleusercontent.com/a-/AOh14Gj7UOyquUtRC0VYjYPKdmbsVWV3uE8gz82iVvNbyg=s64",
      "userId": "11733931254869325882"
     },
     "user_tz": 240
    },
    "id": "S_JFy4eQMRWT",
    "outputId": "c0729dd5-df6e-4ec7-f954-3db910621259"
   },
   "outputs": [
    {
     "name": "stdout",
     "output_type": "stream",
     "text": [
      "+--------------------+-----+\n",
      "|      featuresVector|label|\n",
      "+--------------------+-----+\n",
      "|[39.0,77516.0,13....|  0.0|\n",
      "|[50.0,83311.0,13....|  0.0|\n",
      "|[38.0,215646.0,9....|  0.0|\n",
      "|[53.0,234721.0,7....|  0.0|\n",
      "+--------------------+-----+\n",
      "only showing top 4 rows\n",
      "\n"
     ]
    }
   ],
   "source": [
    "final_data = temp_data.select('featuresVector', 'label')\n",
    "final_data.head(4)\n",
    "final_data.show(4)"
   ]
  },
  {
   "cell_type": "markdown",
   "metadata": {
    "colab_type": "text",
    "id": "K9cih619R9M1"
   },
   "source": [
    "# Apply from step #1:"
   ]
  },
  {
   "cell_type": "code",
   "execution_count": 0,
   "metadata": {
    "colab": {},
    "colab_type": "code",
    "id": "qQfYEtgTOhMR"
   },
   "outputs": [],
   "source": [
    "my_logi_reg = LogisticRegression(featuresCol='featuresVector', labelCol='label', maxIter=10)\n",
    "\n",
    "train_data, test_data = final_data.randomSplit([0.70, 0.30])\n"
   ]
  },
  {
   "cell_type": "code",
   "execution_count": 0,
   "metadata": {
    "colab": {},
    "colab_type": "code",
    "id": "3jqJVouLPUqS"
   },
   "outputs": [],
   "source": [
    "my_logi_reg_model = my_logi_reg.fit(train_data)"
   ]
  },
  {
   "cell_type": "code",
   "execution_count": 0,
   "metadata": {
    "colab": {},
    "colab_type": "code",
    "id": "03tKzb2RQgH0"
   },
   "outputs": [],
   "source": [
    "evalu = my_logi_reg_model.evaluate(final_data)"
   ]
  },
  {
   "cell_type": "code",
   "execution_count": 116,
   "metadata": {
    "colab": {
     "base_uri": "https://localhost:8080/",
     "height": 35
    },
    "colab_type": "code",
    "executionInfo": {
     "elapsed": 506,
     "status": "ok",
     "timestamp": 1586323904299,
     "user": {
      "displayName": "Sumit Mistry",
      "photoUrl": "https://lh3.googleusercontent.com/a-/AOh14Gj7UOyquUtRC0VYjYPKdmbsVWV3uE8gz82iVvNbyg=s64",
      "userId": "11733931254869325882"
     },
     "user_tz": 240
    },
    "id": "95WR4WSpQ9Vo",
    "outputId": "8c1ebbdc-f677-4a17-aa20-89d83d133ad3"
   },
   "outputs": [
    {
     "data": {
      "text/plain": [
       "0.8039679371026688"
      ]
     },
     "execution_count": 116,
     "metadata": {
      "tags": []
     },
     "output_type": "execute_result"
    }
   ],
   "source": [
    "evalu.accuracy"
   ]
  },
  {
   "cell_type": "code",
   "execution_count": 117,
   "metadata": {
    "colab": {
     "base_uri": "https://localhost:8080/",
     "height": 35
    },
    "colab_type": "code",
    "executionInfo": {
     "elapsed": 820,
     "status": "ok",
     "timestamp": 1586323906052,
     "user": {
      "displayName": "Sumit Mistry",
      "photoUrl": "https://lh3.googleusercontent.com/a-/AOh14Gj7UOyquUtRC0VYjYPKdmbsVWV3uE8gz82iVvNbyg=s64",
      "userId": "11733931254869325882"
     },
     "user_tz": 240
    },
    "id": "1Y67Si0zRdRP",
    "outputId": "4f3c8595-cdee-40ca-cf4b-bbb2f2f15b59"
   },
   "outputs": [
    {
     "data": {
      "text/plain": [
       "'featuresVector'"
      ]
     },
     "execution_count": 117,
     "metadata": {
      "tags": []
     },
     "output_type": "execute_result"
    }
   ],
   "source": [
    "evalu.featuresCol"
   ]
  },
  {
   "cell_type": "code",
   "execution_count": 118,
   "metadata": {
    "colab": {
     "base_uri": "https://localhost:8080/",
     "height": 35
    },
    "colab_type": "code",
    "executionInfo": {
     "elapsed": 898,
     "status": "ok",
     "timestamp": 1586323906455,
     "user": {
      "displayName": "Sumit Mistry",
      "photoUrl": "https://lh3.googleusercontent.com/a-/AOh14Gj7UOyquUtRC0VYjYPKdmbsVWV3uE8gz82iVvNbyg=s64",
      "userId": "11733931254869325882"
     },
     "user_tz": 240
    },
    "id": "0X524_OaRbPm",
    "outputId": "486a861e-4165-41df-daf7-3d776daf99ec"
   },
   "outputs": [
    {
     "data": {
      "text/plain": [
       "'label'"
      ]
     },
     "execution_count": 118,
     "metadata": {
      "tags": []
     },
     "output_type": "execute_result"
    }
   ],
   "source": [
    "evalu.labelCol"
   ]
  },
  {
   "cell_type": "code",
   "execution_count": 119,
   "metadata": {
    "colab": {
     "base_uri": "https://localhost:8080/",
     "height": 35
    },
    "colab_type": "code",
    "executionInfo": {
     "elapsed": 916,
     "status": "ok",
     "timestamp": 1586323906753,
     "user": {
      "displayName": "Sumit Mistry",
      "photoUrl": "https://lh3.googleusercontent.com/a-/AOh14Gj7UOyquUtRC0VYjYPKdmbsVWV3uE8gz82iVvNbyg=s64",
      "userId": "11733931254869325882"
     },
     "user_tz": 240
    },
    "id": "CVPpvEQBRN7N",
    "outputId": "2ea56afd-99b8-431c-e0e6-cbe0f9076c5b"
   },
   "outputs": [
    {
     "data": {
      "text/plain": [
       "[0.0, 1.0]"
      ]
     },
     "execution_count": 119,
     "metadata": {
      "tags": []
     },
     "output_type": "execute_result"
    }
   ],
   "source": [
    "evalu.labels"
   ]
  },
  {
   "cell_type": "markdown",
   "metadata": {
    "colab_type": "text",
    "id": "65lX14tYR2ny"
   },
   "source": [
    "# Prediction"
   ]
  },
  {
   "cell_type": "markdown",
   "metadata": {
    "colab_type": "text",
    "id": "MXaX0knaTDdR"
   },
   "source": [
    "Make the predictions by considering the numeric column only"
   ]
  },
  {
   "cell_type": "markdown",
   "metadata": {
    "colab_type": "text",
    "id": "Qg3j5o_ySIoz"
   },
   "source": [
    "# Apply from step #7:"
   ]
  },
  {
   "cell_type": "code",
   "execution_count": 0,
   "metadata": {
    "colab": {},
    "colab_type": "code",
    "id": "ML0VMU63Rdyq"
   },
   "outputs": [],
   "source": [
    "predicting = my_logi_reg_model.transform(test_data.select('featuresVector'))"
   ]
  },
  {
   "cell_type": "code",
   "execution_count": 130,
   "metadata": {
    "colab": {
     "base_uri": "https://localhost:8080/",
     "height": 220
    },
    "colab_type": "code",
    "executionInfo": {
     "elapsed": 912,
     "status": "ok",
     "timestamp": 1586324224012,
     "user": {
      "displayName": "Sumit Mistry",
      "photoUrl": "https://lh3.googleusercontent.com/a-/AOh14Gj7UOyquUtRC0VYjYPKdmbsVWV3uE8gz82iVvNbyg=s64",
      "userId": "11733931254869325882"
     },
     "user_tz": 240
    },
    "id": "FjFi4AyhRmWs",
    "outputId": "35533e78-7fe5-47c6-d9a5-d05408309b57"
   },
   "outputs": [
    {
     "name": "stdout",
     "output_type": "stream",
     "text": [
      "+--------------------+--------------------+--------------------+----------+\n",
      "|      featuresVector|       rawPrediction|         probability|prediction|\n",
      "+--------------------+--------------------+--------------------+----------+\n",
      "|[17.0,19752.0,7.0...|[3.03970495324610...|[0.95433597314859...|       0.0|\n",
      "|[17.0,27032.0,6.0...|[3.56117842679644...|[0.97237924531024...|       0.0|\n",
      "|[17.0,32763.0,6.0...|[3.49398482178582...|[0.97051613381038...|       0.0|\n",
      "|[17.0,34019.0,7.0...|[3.16660993902379...|[0.95955823385344...|       0.0|\n",
      "|[17.0,34088.0,8.0...|[2.83849173717566...|[0.94472074833253...|       0.0|\n",
      "+--------------------+--------------------+--------------------+----------+\n",
      "only showing top 5 rows\n",
      "\n"
     ]
    }
   ],
   "source": [
    "predicting.show(5)"
   ]
  },
  {
   "cell_type": "code",
   "execution_count": 0,
   "metadata": {
    "colab": {},
    "colab_type": "code",
    "id": "KTcUxBcZSpqs"
   },
   "outputs": [],
   "source": []
  }
 ],
 "metadata": {
  "colab": {
   "collapsed_sections": [],
   "name": "CKCS 113 - Lab 11.ipynb",
   "provenance": []
  },
  "kernelspec": {
   "display_name": "Python 3",
   "language": "python",
   "name": "python3"
  },
  "language_info": {
   "codemirror_mode": {
    "name": "ipython",
    "version": 3
   },
   "file_extension": ".py",
   "mimetype": "text/x-python",
   "name": "python",
   "nbconvert_exporter": "python",
   "pygments_lexer": "ipython3",
   "version": "3.7.0"
  }
 },
 "nbformat": 4,
 "nbformat_minor": 1
}
