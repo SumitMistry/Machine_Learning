{
 "cells": [
  {
   "cell_type": "markdown",
   "metadata": {
    "colab_type": "text",
    "id": "-aWkR13ndwWg"
   },
   "source": [
    "# <font color='blue'>Week 9 - Machine Learning Intro</font>\n",
    "\n",
    "### <font color='red'> Used: Python and its libraries; NumPy and Pandas library. Jupyter Notebook. </font>\n",
    "### <font color='red'> Used: Tensorsflow 2.x </font>\n"
   ]
  },
  {
   "cell_type": "markdown",
   "metadata": {
    "colab_type": "text",
    "id": "EDVDBZLBfLtY"
   },
   "source": [
    "### We will use the famous data set MNIST for our lab"
   ]
  },
  {
   "cell_type": "markdown",
   "metadata": {
    "colab_type": "text",
    "id": "29Fsz8dKeQfE"
   },
   "source": [
    "**Select TensorFlow 2 like the Lecture Module**"
   ]
  },
  {
   "cell_type": "code",
   "execution_count": 2,
   "metadata": {
    "colab": {
     "base_uri": "https://localhost:8080/",
     "height": 36
    },
    "colab_type": "code",
    "id": "Uh3_qliQePt2",
    "outputId": "d1dd87ea-1c66-4dff-8da2-b9ddc2a64e54"
   },
   "outputs": [
    {
     "name": "stdout",
     "output_type": "stream",
     "text": [
      "TensorFlow 2.x selected.\n"
     ]
    }
   ],
   "source": [
    "%tensorflow_version 2.x"
   ]
  },
  {
   "cell_type": "markdown",
   "metadata": {
    "colab_type": "text",
    "id": "KwLadT6_efNJ"
   },
   "source": [
    "**Import TensorFlow and other helper libraries**"
   ]
  },
  {
   "cell_type": "code",
   "execution_count": 3,
   "metadata": {
    "colab": {
     "base_uri": "https://localhost:8080/",
     "height": 36
    },
    "colab_type": "code",
    "id": "XVlE_W_IeZkM",
    "outputId": "7fd11c71-2b91-47ad-efdb-ddfdff3beb53"
   },
   "outputs": [
    {
     "name": "stdout",
     "output_type": "stream",
     "text": [
      "2.1.0\n"
     ]
    }
   ],
   "source": [
    "import tensorflow\n",
    "from tensorflow import keras\n",
    "\n",
    "import numpy\n",
    "import matplotlib.pyplot as matPlotLibPyPlot\n",
    "\n",
    "print(tensorflow.__version__)"
   ]
  },
  {
   "cell_type": "markdown",
   "metadata": {
    "colab_type": "text",
    "id": "KKwmt2qzeu7r"
   },
   "source": [
    "## Import the MNIST dataset"
   ]
  },
  {
   "cell_type": "code",
   "execution_count": 0,
   "metadata": {
    "colab": {},
    "colab_type": "code",
    "id": "mGR8Vzzzeovw"
   },
   "outputs": [],
   "source": [
    "my_mnist = keras.datasets.mnist"
   ]
  },
  {
   "cell_type": "markdown",
   "metadata": {
    "colab_type": "text",
    "id": "oublGxM4e9eW"
   },
   "source": [
    "**Load the data in (train_images, train_labels), (test_images, test_labels)**"
   ]
  },
  {
   "cell_type": "code",
   "execution_count": 5,
   "metadata": {
    "colab": {
     "base_uri": "https://localhost:8080/",
     "height": 54
    },
    "colab_type": "code",
    "id": "0pbPb6OCe5-9",
    "outputId": "78cd6db3-efe2-4378-e4fd-e0183c0b49f8"
   },
   "outputs": [
    {
     "name": "stdout",
     "output_type": "stream",
     "text": [
      "Downloading data from https://storage.googleapis.com/tensorflow/tf-keras-datasets/mnist.npz\n",
      "11493376/11490434 [==============================] - 0s 0us/step\n"
     ]
    }
   ],
   "source": [
    "(train_images, train_labels), (test_images, test_labels) = my_mnist.load_data()"
   ]
  },
  {
   "cell_type": "markdown",
   "metadata": {
    "colab_type": "text",
    "id": "Vs0bGvD7fXYA"
   },
   "source": [
    "**print the labels of numbers by printing the content of train_labels**\n"
   ]
  },
  {
   "cell_type": "code",
   "execution_count": 6,
   "metadata": {
    "colab": {
     "base_uri": "https://localhost:8080/",
     "height": 36
    },
    "colab_type": "code",
    "id": "BPrN7FVzG9Ad",
    "outputId": "d74a59ac-1e39-43a4-c712-ade6eb5852ca"
   },
   "outputs": [
    {
     "data": {
      "text/plain": [
       "array([5, 0, 4, ..., 5, 6, 8], dtype=uint8)"
      ]
     },
     "execution_count": 6,
     "metadata": {
      "tags": []
     },
     "output_type": "execute_result"
    }
   ],
   "source": [
    "train_labels"
   ]
  },
  {
   "cell_type": "markdown",
   "metadata": {
    "colab_type": "text",
    "id": "lb5S77k5foMP"
   },
   "source": [
    "## Explore the data\n",
    "Let's explore the format of the dataset before training the model. The following shows there are 60,000 images in the training set, with each image represented as 28 x 28 pixels:"
   ]
  },
  {
   "cell_type": "code",
   "execution_count": 7,
   "metadata": {
    "colab": {
     "base_uri": "https://localhost:8080/",
     "height": 36
    },
    "colab_type": "code",
    "id": "8CQcAm-CHGf6",
    "outputId": "d643bb50-6328-4477-84e9-9f663f7b21a6"
   },
   "outputs": [
    {
     "data": {
      "text/plain": [
       "(60000, 28, 28)"
      ]
     },
     "execution_count": 7,
     "metadata": {
      "tags": []
     },
     "output_type": "execute_result"
    }
   ],
   "source": [
    "train_images.shape"
   ]
  },
  {
   "cell_type": "markdown",
   "metadata": {
    "colab_type": "text",
    "id": "56umj804fzVi"
   },
   "source": [
    "**Likewise, there are 60,000 labels in the training set: Print the size of the labels**"
   ]
  },
  {
   "cell_type": "code",
   "execution_count": 8,
   "metadata": {
    "colab": {
     "base_uri": "https://localhost:8080/",
     "height": 36
    },
    "colab_type": "code",
    "id": "v644wPOkKUbV",
    "outputId": "f9411a1c-21d8-4d65-9387-0de293ff73d4"
   },
   "outputs": [
    {
     "data": {
      "text/plain": [
       "60000"
      ]
     },
     "execution_count": 8,
     "metadata": {
      "tags": []
     },
     "output_type": "execute_result"
    }
   ],
   "source": [
    "len(train_labels)"
   ]
  },
  {
   "cell_type": "markdown",
   "metadata": {
    "colab_type": "text",
    "id": "AnfDGKZmgFDc"
   },
   "source": [
    "**Print the shape of the test_images**"
   ]
  },
  {
   "cell_type": "code",
   "execution_count": 9,
   "metadata": {
    "colab": {
     "base_uri": "https://localhost:8080/",
     "height": 36
    },
    "colab_type": "code",
    "id": "Bof-RAAFKbrC",
    "outputId": "e4f3cf2e-5623-4737-a189-babd03d19e94"
   },
   "outputs": [
    {
     "data": {
      "text/plain": [
       "(10000, 28, 28)"
      ]
     },
     "execution_count": 9,
     "metadata": {
      "tags": []
     },
     "output_type": "execute_result"
    }
   ],
   "source": [
    "test_images.shape"
   ]
  },
  {
   "cell_type": "markdown",
   "metadata": {
    "colab_type": "text",
    "id": "oAb5Nmy4gQDW"
   },
   "source": [
    "**And the test set contains 10,000 images labels: Print length of the test_labels**"
   ]
  },
  {
   "cell_type": "code",
   "execution_count": 10,
   "metadata": {
    "colab": {
     "base_uri": "https://localhost:8080/",
     "height": 36
    },
    "colab_type": "code",
    "id": "jpEWtP-nKjI2",
    "outputId": "df38c4b1-cdf9-4185-b3a1-8d9a0ba1c0eb"
   },
   "outputs": [
    {
     "name": "stdout",
     "output_type": "stream",
     "text": [
      "10000\n"
     ]
    }
   ],
   "source": [
    "print(len(test_labels))"
   ]
  },
  {
   "cell_type": "markdown",
   "metadata": {
    "colab_type": "text",
    "id": "_MOiWdx4geNe"
   },
   "source": [
    "**Print the first image from train_images**"
   ]
  },
  {
   "cell_type": "code",
   "execution_count": 11,
   "metadata": {
    "colab": {
     "base_uri": "https://localhost:8080/",
     "height": 265
    },
    "colab_type": "code",
    "id": "BdDGBSzxLHdU",
    "outputId": "25f8e67f-ce13-4e15-89e5-a5001e159bd5"
   },
   "outputs": [
    {
     "data": {
      "image/png": "[encoded data removed]",
      "text/plain": [
       "<Figure size 432x288 with 2 Axes>"
      ]
     },
     "metadata": {
      "tags": []
     },
     "output_type": "display_data"
    }
   ],
   "source": [
    "matPlotLibPyPlot.figure()\n",
    "matPlotLibPyPlot.imshow(train_images[0])\n",
    "matPlotLibPyPlot.colorbar()\n",
    "matPlotLibPyPlot.grid(False)\n",
    "matPlotLibPyPlot.show()"
   ]
  },
  {
   "cell_type": "markdown",
   "metadata": {
    "colab_type": "text",
    "id": "Fv_EH-KWgpg3"
   },
   "source": [
    "**Scale these values to a range of 0 to 1 before feeding them to the neural network model. To do so, divide the values by 255. It's important that the *training set* and the *testing set* be preprocessed in the same way:**"
   ]
  },
  {
   "cell_type": "code",
   "execution_count": 0,
   "metadata": {
    "colab": {},
    "colab_type": "code",
    "id": "hcG0twdWglGn"
   },
   "outputs": [],
   "source": [
    "train_images = train_images / 255.0\n",
    "test_images = test_images / 255.0"
   ]
  },
  {
   "cell_type": "markdown",
   "metadata": {
    "colab_type": "text",
    "id": "q7SUuIo-gznk"
   },
   "source": [
    "**To verify that the data is in the correct format and that you're ready to build and train the network, please display the first 25 images from the *training set* and display the class name below each image.**"
   ]
  },
  {
   "cell_type": "code",
   "execution_count": 0,
   "metadata": {
    "colab": {},
    "colab_type": "code",
    "id": "Ow7GIf38QCfq"
   },
   "outputs": [],
   "source": [
    "class_names = ['zero','one','two','three','four','five','six','seven','eight','nine']\n",
    "#or class_names = ['0','1','2','3','4','5','6','7','8','9']"
   ]
  },
  {
   "cell_type": "code",
   "execution_count": 14,
   "metadata": {
    "colab": {
     "base_uri": "https://localhost:8080/",
     "height": 36
    },
    "colab_type": "code",
    "id": "iCiB5aLmSjGQ",
    "outputId": "c5bc4822-d342-407c-9254-e9687b137762"
   },
   "outputs": [
    {
     "data": {
      "text/plain": [
       "(60000, 28, 28)"
      ]
     },
     "execution_count": 14,
     "metadata": {
      "tags": []
     },
     "output_type": "execute_result"
    }
   ],
   "source": [
    "train_images.shape[0:3]"
   ]
  },
  {
   "cell_type": "code",
   "execution_count": 15,
   "metadata": {
    "colab": {
     "base_uri": "https://localhost:8080/",
     "height": 36
    },
    "colab_type": "code",
    "id": "BQawiOjdUEFL",
    "outputId": "de474302-13c9-4e16-e3eb-ff0338e71b1c"
   },
   "outputs": [
    {
     "data": {
      "text/plain": [
       "60000"
      ]
     },
     "execution_count": 15,
     "metadata": {
      "tags": []
     },
     "output_type": "execute_result"
    }
   ],
   "source": [
    "len(train_labels)"
   ]
  },
  {
   "cell_type": "code",
   "execution_count": 16,
   "metadata": {
    "colab": {
     "base_uri": "https://localhost:8080/",
     "height": 36
    },
    "colab_type": "code",
    "id": "lP6YiWIgSdVY",
    "outputId": "da312c77-3f45-477f-8529-718771360f3a"
   },
   "outputs": [
    {
     "data": {
      "text/plain": [
       "'zero'"
      ]
     },
     "execution_count": 16,
     "metadata": {
      "tags": []
     },
     "output_type": "execute_result"
    }
   ],
   "source": [
    "class_names[0]"
   ]
  },
  {
   "cell_type": "code",
   "execution_count": 17,
   "metadata": {
    "colab": {
     "base_uri": "https://localhost:8080/",
     "height": 36
    },
    "colab_type": "code",
    "id": "Y9i8jAw6cNTT",
    "outputId": "fed0296c-2f34-4b23-a89e-629a9f63a37c"
   },
   "outputs": [
    {
     "data": {
      "text/plain": [
       "5"
      ]
     },
     "execution_count": 17,
     "metadata": {
      "tags": []
     },
     "output_type": "execute_result"
    }
   ],
   "source": [
    "train_labels[0]"
   ]
  },
  {
   "cell_type": "code",
   "execution_count": 18,
   "metadata": {
    "colab": {
     "base_uri": "https://localhost:8080/",
     "height": 36
    },
    "colab_type": "code",
    "id": "6vCm3tTPbyCO",
    "outputId": "a9a1c969-c7d9-4d2f-e0a2-8b1270215877"
   },
   "outputs": [
    {
     "data": {
      "text/plain": [
       "'five'"
      ]
     },
     "execution_count": 18,
     "metadata": {
      "tags": []
     },
     "output_type": "execute_result"
    }
   ],
   "source": [
    "class_names[train_labels[0]]"
   ]
  },
  {
   "cell_type": "code",
   "execution_count": 19,
   "metadata": {
    "colab": {
     "base_uri": "https://localhost:8080/",
     "height": 700
    },
    "colab_type": "code",
    "id": "N0IPQ0XjQoDN",
    "outputId": "5f9af76e-bf1b-4815-9abb-52fb590c1996"
   },
   "outputs": [
    {
     "data": {
      "image/png": "[encoded data removed]",
      "text/plain": [
       "<Figure size 720x864 with 25 Axes>"
      ]
     },
     "metadata": {
      "tags": []
     },
     "output_type": "display_data"
    }
   ],
   "source": [
    "matPlotLibPyPlot.figure(figsize=(10,12))\n",
    "\n",
    "for i in range(25):\n",
    "  matPlotLibPyPlot.subplot(5,5,i+1)  #(R:5, C:5, )\n",
    "  matPlotLibPyPlot.imshow(train_images[i])\n",
    "  #matPlotLibPyPlot.colorbar(False)\n",
    "  #matPlotLibPyPlot.grid(False)\n",
    "  #matPlotLibPyPlot.xticks()\n",
    "  #matPlotLibPyPlot.yticks()\n",
    "  matPlotLibPyPlot.imshow(train_images[i], cmap=matPlotLibPyPlot.cm.binary)\n",
    "  matPlotLibPyPlot.xlabel(class_names[train_labels[i]])\n",
    "\n",
    "matPlotLibPyPlot.show()"
   ]
  },
  {
   "cell_type": "markdown",
   "metadata": {
    "colab_type": "text",
    "id": "R27HjOCxhHhv"
   },
   "source": [
    "## Build the model and Set up the layers"
   ]
  },
  {
   "cell_type": "code",
   "execution_count": 0,
   "metadata": {
    "colab": {},
    "colab_type": "code",
    "id": "g5miEzncg7G9"
   },
   "outputs": [],
   "source": [
    "my_tf_model = tensorflow.keras.Sequential([\n",
    "  keras.layers.Flatten(input_shape=(28,28)),\n",
    "  keras.layers.Dense(64) , \n",
    "  #keras.layers.Dense(128, activation='relu') , \n",
    "  keras.layers.Dense(10)        \n",
    "   ])"
   ]
  },
  {
   "cell_type": "markdown",
   "metadata": {
    "colab_type": "text",
    "id": "zZs9Cl5KhTQ1"
   },
   "source": [
    "### Compile the model"
   ]
  },
  {
   "cell_type": "code",
   "execution_count": 0,
   "metadata": {
    "colab": {},
    "colab_type": "code",
    "id": "vfsqf1a4hOgQ"
   },
   "outputs": [],
   "source": [
    "my_tf_model.compile(optimizer='adam',\n",
    "      loss=tensorflow.keras.losses.SparseCategoricalCrossentropy(from_logits=True),\n",
    "      metrics=['accuracy'])\n"
   ]
  },
  {
   "cell_type": "markdown",
   "metadata": {
    "colab_type": "text",
    "id": "3phDSUddhbTW"
   },
   "source": [
    "## Train the model\n",
    "## Feed the model\n",
    "\n",
    "To start training,  call the `model.fit` method—so called because it \"fits\" the model to the training data:"
   ]
  },
  {
   "cell_type": "code",
   "execution_count": 29,
   "metadata": {
    "colab": {
     "base_uri": "https://localhost:8080/",
     "height": 425
    },
    "colab_type": "code",
    "id": "ocuEKs1KbNGO",
    "outputId": "e46f1f16-874d-4f26-c5a2-b8c22d476ba6"
   },
   "outputs": [
    {
     "name": "stdout",
     "output_type": "stream",
     "text": [
      "Train on 60000 samples\n",
      "Epoch 1/10\n",
      "60000/60000 [==============================] - 4s 65us/sample - loss: 0.2681 - accuracy: 0.9260\n",
      "Epoch 2/10\n",
      "60000/60000 [==============================] - 4s 66us/sample - loss: 0.2653 - accuracy: 0.9255\n",
      "Epoch 3/10\n",
      "60000/60000 [==============================] - 4s 65us/sample - loss: 0.2625 - accuracy: 0.9267\n",
      "Epoch 4/10\n",
      "60000/60000 [==============================] - 4s 65us/sample - loss: 0.2615 - accuracy: 0.9273\n",
      "Epoch 5/10\n",
      "60000/60000 [==============================] - 4s 67us/sample - loss: 0.2596 - accuracy: 0.9272\n",
      "Epoch 6/10\n",
      "60000/60000 [==============================] - 4s 66us/sample - loss: 0.2582 - accuracy: 0.9275\n",
      "Epoch 7/10\n",
      "60000/60000 [==============================] - 4s 65us/sample - loss: 0.2572 - accuracy: 0.9286\n",
      "Epoch 8/10\n",
      "60000/60000 [==============================] - 4s 66us/sample - loss: 0.2561 - accuracy: 0.9284\n",
      "Epoch 9/10\n",
      "60000/60000 [==============================] - 4s 67us/sample - loss: 0.2540 - accuracy: 0.9282\n",
      "Epoch 10/10\n",
      "60000/60000 [==============================] - 4s 67us/sample - loss: 0.2537 - accuracy: 0.9291\n"
     ]
    },
    {
     "data": {
      "text/plain": [
       "<tensorflow.python.keras.callbacks.History at 0x7f069b68e208>"
      ]
     },
     "execution_count": 29,
     "metadata": {
      "tags": []
     },
     "output_type": "execute_result"
    }
   ],
   "source": [
    "my_tf_model.fit(train_images, train_labels, epochs =10)"
   ]
  },
  {
   "cell_type": "code",
   "execution_count": 0,
   "metadata": {
    "colab": {
     "base_uri": "https://localhost:8080/",
     "height": 391
    },
    "colab_type": "code",
    "id": "6EcZf4ZxhW_X",
    "outputId": "725b45b8-46eb-4387-d1ed-d9a0218ad514"
   },
   "outputs": [
    {
     "name": "stdout",
     "output_type": "stream",
     "text": [
      "Train on 60000 samples\n",
      "Epoch 1/10\n",
      "60000/60000 [==============================] - 5s 76us/sample - loss: 0.2559 - accuracy: 0.9258\n",
      "Epoch 2/10\n",
      "60000/60000 [==============================] - 4s 71us/sample - loss: 0.1137 - accuracy: 0.9671\n",
      "Epoch 3/10\n",
      "60000/60000 [==============================] - 4s 72us/sample - loss: 0.0774 - accuracy: 0.9765\n",
      "Epoch 4/10\n",
      "60000/60000 [==============================] - 4s 70us/sample - loss: 0.0569 - accuracy: 0.9829\n",
      "Epoch 5/10\n",
      "60000/60000 [==============================] - 4s 71us/sample - loss: 0.0441 - accuracy: 0.9865\n",
      "Epoch 6/10\n",
      "60000/60000 [==============================] - 4s 71us/sample - loss: 0.0341 - accuracy: 0.9893\n",
      "Epoch 7/10\n",
      "60000/60000 [==============================] - 4s 70us/sample - loss: 0.0289 - accuracy: 0.9909\n",
      "Epoch 8/10\n",
      "60000/60000 [==============================] - 4s 71us/sample - loss: 0.0216 - accuracy: 0.9933\n",
      "Epoch 9/10\n",
      "60000/60000 [==============================] - 4s 70us/sample - loss: 0.0181 - accuracy: 0.9945\n",
      "Epoch 10/10\n",
      "60000/60000 [==============================] - 4s 72us/sample - loss: 0.0162 - accuracy: 0.9948\n"
     ]
    },
    {
     "data": {
      "text/plain": [
       "<tensorflow.python.keras.callbacks.History at 0x7f92e3774eb8>"
      ]
     },
     "execution_count": 15,
     "metadata": {
      "tags": []
     },
     "output_type": "execute_result"
    }
   ],
   "source": []
  },
  {
   "cell_type": "markdown",
   "metadata": {
    "colab_type": "text",
    "id": "jPxdTlkchnfs"
   },
   "source": [
    "##Calculate accuracy of the model"
   ]
  },
  {
   "cell_type": "code",
   "execution_count": 33,
   "metadata": {
    "colab": {
     "base_uri": "https://localhost:8080/",
     "height": 73
    },
    "colab_type": "code",
    "id": "OwwEYXU8bboV",
    "outputId": "63c2515a-33f0-4f7a-d2fa-de33e61db1fd"
   },
   "outputs": [
    {
     "name": "stdout",
     "output_type": "stream",
     "text": [
      "10000/10000 [==============================] - 0s 39us/sample - loss: 0.2868 - accuracy: 0.9231\n",
      "Test accuracy:  0.9231 \n",
      "Loss while testing:  0.28682686928510664\n"
     ]
    }
   ],
   "source": [
    "test_loss, test_accuracy = my_tf_model.evaluate(test_images, test_labels, verbose=1)\n",
    "\n",
    "print ('Test accuracy: ', test_accuracy, '\\nLoss while testing: ', test_loss)"
   ]
  },
  {
   "cell_type": "markdown",
   "metadata": {
    "colab_type": "text",
    "id": "19kDJvRvh8VB"
   },
   "source": [
    "### Make predictions\n",
    "Make predictions for the test data. With the model trained, you can use it to make predictions about some images. The model's linear outputs, logits. Attach a softmax layer to convert the logits to probabilities, which are easier to interpret."
   ]
  },
  {
   "cell_type": "code",
   "execution_count": 0,
   "metadata": {
    "colab": {},
    "colab_type": "code",
    "id": "Qsc1RKP3hyNf"
   },
   "outputs": [],
   "source": [
    "probability_model = tensorflow.keras.Sequential([my_tf_model\n",
    "                                                      ])\n",
    "#     tensorflow.keras.layers.Softmax()                ])"
   ]
  },
  {
   "cell_type": "code",
   "execution_count": 0,
   "metadata": {
    "colab": {},
    "colab_type": "code",
    "id": "Eu_x8NY-gvmW"
   },
   "outputs": [],
   "source": [
    "prediction_01 = probability_model.predict(test_images)"
   ]
  },
  {
   "cell_type": "markdown",
   "metadata": {
    "colab_type": "text",
    "id": "Bqe1otAUjkH2"
   },
   "source": [
    "**The model has predicted the probability of labels for each image in the testing set. Let's take a look at the first prediction:**"
   ]
  },
  {
   "cell_type": "code",
   "execution_count": 102,
   "metadata": {
    "colab": {
     "base_uri": "https://localhost:8080/",
     "height": 73
    },
    "colab_type": "code",
    "id": "Z7rleNDrjuU3",
    "outputId": "0b515292-5f32-4cf6-f0fc-dfbd4d740ce1"
   },
   "outputs": [
    {
     "data": {
      "text/plain": [
       "array([-3.5546556e-01, -1.7393459e+01, -1.0681808e-02,  7.9835596e+00,\n",
       "       -2.3705866e+00,  3.7779238e+00, -1.3018953e+01,  1.4985981e+01,\n",
       "        2.7052312e+00,  6.4730320e+00], dtype=float32)"
      ]
     },
     "execution_count": 102,
     "metadata": {
      "tags": []
     },
     "output_type": "execute_result"
    }
   ],
   "source": [
    "prediction_01[0]"
   ]
  },
  {
   "cell_type": "markdown",
   "metadata": {
    "colab_type": "text",
    "id": "MFzj7PtSjzF-"
   },
   "source": [
    "****The prediction is an array of 10 numbers. They represent the model's \"confidence\" that the image corresponds to each of the 10 different articles of clothing. You can see which label has the highest confidence value:****"
   ]
  },
  {
   "cell_type": "code",
   "execution_count": 103,
   "metadata": {
    "colab": {
     "base_uri": "https://localhost:8080/",
     "height": 36
    },
    "colab_type": "code",
    "id": "cSzUhUlBdBuE",
    "outputId": "9de4326f-2b65-492b-8f10-9167d7447a9b"
   },
   "outputs": [
    {
     "data": {
      "text/plain": [
       "7"
      ]
     },
     "execution_count": 103,
     "metadata": {
      "tags": []
     },
     "output_type": "execute_result"
    }
   ],
   "source": [
    "numpy.argmax(prediction_01[0])"
   ]
  },
  {
   "cell_type": "code",
   "execution_count": 104,
   "metadata": {
    "colab": {
     "base_uri": "https://localhost:8080/",
     "height": 36
    },
    "colab_type": "code",
    "id": "1pzGYpmRdKxG",
    "outputId": "59a80796-177c-4e4b-c182-e0397de896c8"
   },
   "outputs": [
    {
     "data": {
      "text/plain": [
       "'seven'"
      ]
     },
     "execution_count": 104,
     "metadata": {
      "tags": []
     },
     "output_type": "execute_result"
    }
   ],
   "source": [
    "class_names[7]"
   ]
  },
  {
   "cell_type": "markdown",
   "metadata": {
    "colab_type": "text",
    "id": "UvZPgm27j-pI"
   },
   "source": [
    "**Find the label at the first index of test_labels**"
   ]
  },
  {
   "cell_type": "code",
   "execution_count": 105,
   "metadata": {
    "colab": {
     "base_uri": "https://localhost:8080/",
     "height": 36
    },
    "colab_type": "code",
    "id": "Y7hKKbWbdPzc",
    "outputId": "820c7af8-308b-42ae-e935-53b128f9bf2b"
   },
   "outputs": [
    {
     "data": {
      "text/plain": [
       "7"
      ]
     },
     "execution_count": 105,
     "metadata": {
      "tags": []
     },
     "output_type": "execute_result"
    }
   ],
   "source": [
    "test_labels[0]"
   ]
  },
  {
   "cell_type": "code",
   "execution_count": 106,
   "metadata": {
    "colab": {
     "base_uri": "https://localhost:8080/",
     "height": 36
    },
    "colab_type": "code",
    "id": "JJhfo3x3j4XH",
    "outputId": "6cb0c219-89dd-4d26-b90a-78f85ca34754"
   },
   "outputs": [
    {
     "data": {
      "text/plain": [
       "'seven'"
      ]
     },
     "execution_count": 106,
     "metadata": {
      "tags": []
     },
     "output_type": "execute_result"
    }
   ],
   "source": [
    "class_names[test_labels[0]]"
   ]
  },
  {
   "cell_type": "markdown",
   "metadata": {
    "colab_type": "text",
    "id": "gg9_NVGTkKMJ"
   },
   "source": [
    "**Lets predict the classes for the test data**"
   ]
  },
  {
   "cell_type": "code",
   "execution_count": 0,
   "metadata": {
    "colab": {},
    "colab_type": "code",
    "id": "yYy1MURFju3A"
   },
   "outputs": [],
   "source": [
    "prediction_class = my_tf_model.predict_classes(test_images)"
   ]
  },
  {
   "cell_type": "code",
   "execution_count": 113,
   "metadata": {
    "colab": {
     "base_uri": "https://localhost:8080/",
     "height": 73
    },
    "colab_type": "code",
    "id": "4y7som6XljD3",
    "outputId": "5c2db75f-c6c4-4269-a020-c694ab31ab58"
   },
   "outputs": [
    {
     "data": {
      "text/plain": [
       "array([-3.5546556e-01, -1.7393459e+01, -1.0681808e-02,  7.9835596e+00,\n",
       "       -2.3705866e+00,  3.7779238e+00, -1.3018953e+01,  1.4985981e+01,\n",
       "        2.7052312e+00,  6.4730320e+00], dtype=float32)"
      ]
     },
     "execution_count": 113,
     "metadata": {
      "tags": []
     },
     "output_type": "execute_result"
    }
   ],
   "source": [
    "prediction_01[0]"
   ]
  },
  {
   "cell_type": "code",
   "execution_count": 114,
   "metadata": {
    "colab": {
     "base_uri": "https://localhost:8080/",
     "height": 36
    },
    "colab_type": "code",
    "id": "mewNQbZtlniT",
    "outputId": "a02ee8c7-d5d8-40df-9168-622cc592dac8"
   },
   "outputs": [
    {
     "data": {
      "text/plain": [
       "(10000,)"
      ]
     },
     "execution_count": 114,
     "metadata": {
      "tags": []
     },
     "output_type": "execute_result"
    }
   ],
   "source": [
    "test_labels.shape"
   ]
  },
  {
   "cell_type": "code",
   "execution_count": 115,
   "metadata": {
    "colab": {
     "base_uri": "https://localhost:8080/",
     "height": 36
    },
    "colab_type": "code",
    "id": "2YEGMW1elp7A",
    "outputId": "c94866a6-8dcf-4796-a75f-c8353cd6737a"
   },
   "outputs": [
    {
     "data": {
      "text/plain": [
       "(10000, 28, 28)"
      ]
     },
     "execution_count": 115,
     "metadata": {
      "tags": []
     },
     "output_type": "execute_result"
    }
   ],
   "source": [
    "test_images.shape"
   ]
  },
  {
   "cell_type": "markdown",
   "metadata": {
    "colab_type": "text",
    "id": "mJSuN8qZliD9"
   },
   "source": [
    "**Print the classification report and confusion matrix by importing classification_report, confusion_matrix from sklearn library**"
   ]
  },
  {
   "cell_type": "code",
   "execution_count": 0,
   "metadata": {
    "colab": {},
    "colab_type": "code",
    "id": "M5PUzV1bkh_X"
   },
   "outputs": [],
   "source": [
    "from sklearn.metrics import classification_report\n",
    "from sklearn.metrics import confusion_matrix"
   ]
  },
  {
   "cell_type": "code",
   "execution_count": 118,
   "metadata": {
    "colab": {
     "base_uri": "https://localhost:8080/",
     "height": 203
    },
    "colab_type": "code",
    "id": "A2T_D9KFo708",
    "outputId": "94d4099d-8b7a-42a8-98ee-f98484389ac3"
   },
   "outputs": [
    {
     "data": {
      "text/plain": [
       "array([[ 941,    0,    1,    3,    2,   15,    9,    3,    4,    2],\n",
       "       [   0, 1099,    5,    2,    0,    1,    3,    2,   23,    0],\n",
       "       [   4,    4,  906,   23,   11,    5,   14,   12,   48,    5],\n",
       "       [   2,    0,   14,  902,    1,   37,    4,   12,   32,    6],\n",
       "       [   1,    1,    3,    2,  910,    0,   13,    4,   10,   38],\n",
       "       [   7,    2,    2,   20,    7,  800,   10,    5,   35,    4],\n",
       "       [   6,    3,    5,    3,    6,   22,  909,    1,    3,    0],\n",
       "       [   1,    3,   18,    4,    2,    2,    0,  944,    4,   50],\n",
       "       [   4,    5,    4,   15,    8,   22,    7,    8,  890,   11],\n",
       "       [   5,    3,    0,    8,   23,   11,    1,   18,   10,  930]])"
      ]
     },
     "execution_count": 118,
     "metadata": {
      "tags": []
     },
     "output_type": "execute_result"
    }
   ],
   "source": [
    "confusion_matrix(test_labels, prediction_class)"
   ]
  },
  {
   "cell_type": "code",
   "execution_count": 119,
   "metadata": {
    "colab": {
     "base_uri": "https://localhost:8080/",
     "height": 333
    },
    "colab_type": "code",
    "id": "WoFQE_MJptJu",
    "outputId": "f1dc6001-959d-4bed-b0da-f5830b8ec927"
   },
   "outputs": [
    {
     "name": "stdout",
     "output_type": "stream",
     "text": [
      "              precision    recall  f1-score   support\n",
      "\n",
      "           0       0.97      0.96      0.96       980\n",
      "           1       0.98      0.97      0.97      1135\n",
      "           2       0.95      0.88      0.91      1032\n",
      "           3       0.92      0.89      0.91      1010\n",
      "           4       0.94      0.93      0.93       982\n",
      "           5       0.87      0.90      0.89       892\n",
      "           6       0.94      0.95      0.94       958\n",
      "           7       0.94      0.92      0.93      1028\n",
      "           8       0.84      0.91      0.88       974\n",
      "           9       0.89      0.92      0.91      1009\n",
      "\n",
      "    accuracy                           0.92     10000\n",
      "   macro avg       0.92      0.92      0.92     10000\n",
      "weighted avg       0.92      0.92      0.92     10000\n",
      "\n"
     ]
    }
   ],
   "source": [
    "print(classification_report(test_labels, prediction_class))"
   ]
  }
 ],
 "metadata": {
  "colab": {
   "collapsed_sections": [],
   "name": "Lab 9.ipynb",
   "provenance": []
  },
  "kernelspec": {
   "display_name": "Python 3",
   "language": "python",
   "name": "python3"
  },
  "language_info": {
   "codemirror_mode": {
    "name": "ipython",
    "version": 3
   },
   "file_extension": ".py",
   "mimetype": "text/x-python",
   "name": "python",
   "nbconvert_exporter": "python",
   "pygments_lexer": "ipython3",
   "version": "3.7.0"
  }
 },
 "nbformat": 4,
 "nbformat_minor": 1
}
